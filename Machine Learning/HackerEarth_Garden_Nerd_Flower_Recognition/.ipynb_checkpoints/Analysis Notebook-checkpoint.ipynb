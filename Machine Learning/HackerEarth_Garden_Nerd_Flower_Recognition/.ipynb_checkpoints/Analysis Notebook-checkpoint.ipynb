{
 "cells": [
  {
   "cell_type": "markdown",
   "metadata": {},
   "source": [
    "# ML Challenge Analysis Notebook"
   ]
  },
  {
   "cell_type": "code",
   "execution_count": 1,
   "metadata": {},
   "outputs": [
    {
     "name": "stdout",
     "output_type": "stream",
     "text": [
      "Widget Loaded\n"
     ]
    }
   ],
   "source": [
    "%matplotlib inline\n",
    "%run ./../../plugins/widgets.py\n",
    "\n",
    "import cv2\n",
    "import glob\n",
    "import ipywidgets\n",
    "import math\n",
    "import matplotlib.pyplot as plt\n",
    "import numpy as np\n",
    "import os\n",
    "import pandas as pd\n",
    "import seaborn as sns\n",
    "import sklearn\n",
    "import time\n",
    "import tensorflow as tf\n",
    "import tensorflow.keras as keras"
   ]
  },
  {
   "cell_type": "markdown",
   "metadata": {},
   "source": [
    "## Global parameters and variables"
   ]
  },
  {
   "cell_type": "code",
   "execution_count": 2,
   "metadata": {},
   "outputs": [],
   "source": [
    "tf.enable_eager_execution()\n",
    "plt.rcParams['figure.figsize'] = [16, 9]\n",
    "plt.rcParams['font.size'] = 14\n",
    "plt.rcParams['axes.grid'] = True\n",
    "plt.rcParams['figure.facecolor'] = 'white'\n",
    "pd.set_option('display.max_columns', 100)\n",
    "pd.set_option('display.width', 1000)"
   ]
  },
  {
   "cell_type": "markdown",
   "metadata": {},
   "source": [
    "## Load CSV"
   ]
  },
  {
   "cell_type": "code",
   "execution_count": 3,
   "metadata": {},
   "outputs": [
    {
     "data": {
      "text/html": [
       "<div>\n",
       "<style scoped>\n",
       "    .dataframe tbody tr th:only-of-type {\n",
       "        vertical-align: middle;\n",
       "    }\n",
       "\n",
       "    .dataframe tbody tr th {\n",
       "        vertical-align: top;\n",
       "    }\n",
       "\n",
       "    .dataframe thead th {\n",
       "        text-align: right;\n",
       "    }\n",
       "</style>\n",
       "<table border=\"1\" class=\"dataframe\">\n",
       "  <thead>\n",
       "    <tr style=\"text-align: right;\">\n",
       "      <th></th>\n",
       "      <th>image_id</th>\n",
       "      <th>category</th>\n",
       "      <th>filename</th>\n",
       "    </tr>\n",
       "  </thead>\n",
       "  <tbody>\n",
       "    <tr>\n",
       "      <th>0</th>\n",
       "      <td>0</td>\n",
       "      <td>77</td>\n",
       "      <td>./data/train/0.jpg</td>\n",
       "    </tr>\n",
       "    <tr>\n",
       "      <th>1</th>\n",
       "      <td>1</td>\n",
       "      <td>81</td>\n",
       "      <td>./data/train/1.jpg</td>\n",
       "    </tr>\n",
       "    <tr>\n",
       "      <th>2</th>\n",
       "      <td>2</td>\n",
       "      <td>52</td>\n",
       "      <td>./data/train/2.jpg</td>\n",
       "    </tr>\n",
       "    <tr>\n",
       "      <th>3</th>\n",
       "      <td>3</td>\n",
       "      <td>72</td>\n",
       "      <td>./data/train/3.jpg</td>\n",
       "    </tr>\n",
       "    <tr>\n",
       "      <th>4</th>\n",
       "      <td>4</td>\n",
       "      <td>58</td>\n",
       "      <td>./data/train/4.jpg</td>\n",
       "    </tr>\n",
       "  </tbody>\n",
       "</table>\n",
       "</div>"
      ],
      "text/plain": [
       "   image_id  category            filename\n",
       "0         0        77  ./data/train/0.jpg\n",
       "1         1        81  ./data/train/1.jpg\n",
       "2         2        52  ./data/train/2.jpg\n",
       "3         3        72  ./data/train/3.jpg\n",
       "4         4        58  ./data/train/4.jpg"
      ]
     },
     "execution_count": 3,
     "metadata": {},
     "output_type": "execute_result"
    }
   ],
   "source": [
    "df = pd.read_csv(\"./data/train.csv\")\n",
    "df['filename'] = './data/train/' + df['image_id'].astype(str) + '.jpg'\n",
    "df.head(5)"
   ]
  },
  {
   "cell_type": "code",
   "execution_count": 4,
   "metadata": {},
   "outputs": [
    {
     "data": {
      "image/png": "[encoded data removed]",
      "text/plain": [
       "<Figure size 1152x648 with 1 Axes>"
      ]
     },
     "metadata": {},
     "output_type": "display_data"
    }
   ],
   "source": [
    "sns.countplot(data=df, x='category')\n",
    "plt.xticks(rotation=90)\n",
    "plt.show()"
   ]
  },
  {
   "cell_type": "markdown",
   "metadata": {},
   "source": [
    "## Get Images of Category Flower"
   ]
  },
  {
   "cell_type": "code",
   "execution_count": 37,
   "metadata": {},
   "outputs": [
    {
     "data": {
      "application/vnd.jupyter.widget-view+json": {
       "model_id": "4d387a1749364276ab12bd882e3511bb",
       "version_major": 2,
       "version_minor": 0
      },
      "text/plain": [
       "interactive(children=(IntText(value=7, description='Category:'), Output()), _dom_classes=('widget-interact',))"
      ]
     },
     "metadata": {},
     "output_type": "display_data"
    },
    {
     "data": {
      "text/plain": [
       "<function __main__.interact_func(x)>"
      ]
     },
     "execution_count": 37,
     "metadata": {},
     "output_type": "execute_result"
    }
   ],
   "source": [
    "def interact_func(x):\n",
    "    category_df = df[df['category'] == x]\n",
    "    image_widgets = []\n",
    "    for index, row in category_df.iterrows():\n",
    "        file = open(row['filename'], \"rb\")\n",
    "        image = file.read()\n",
    "        image_widgets.append(ipywidgets.Image(value=image, format='png'))\n",
    "        if len(image_widgets) >= 40:\n",
    "            break\n",
    "\n",
    "\n",
    "    return ipywidgets.GridBox(image_widgets, layout=ipywidgets.Layout(grid_template_columns=\"repeat(4, 25%)\", grid_gap=\"5px\"))\n",
    "\n",
    "ipywidgets.interact(interact_func, x=ipywidgets.IntText(value=7, description='Category:'))"
   ]
  },
  {
   "cell_type": "markdown",
   "metadata": {},
   "source": [
    "## Prediction Analysis : "
   ]
  },
  {
   "cell_type": "code",
   "execution_count": 48,
   "metadata": {},
   "outputs": [
    {
     "data": {
      "text/html": [
       "<div>\n",
       "<style scoped>\n",
       "    .dataframe tbody tr th:only-of-type {\n",
       "        vertical-align: middle;\n",
       "    }\n",
       "\n",
       "    .dataframe tbody tr th {\n",
       "        vertical-align: top;\n",
       "    }\n",
       "\n",
       "    .dataframe thead th {\n",
       "        text-align: right;\n",
       "    }\n",
       "</style>\n",
       "<table border=\"1\" class=\"dataframe\">\n",
       "  <thead>\n",
       "    <tr style=\"text-align: right;\">\n",
       "      <th></th>\n",
       "      <th>image_id</th>\n",
       "      <th>category</th>\n",
       "      <th>filename</th>\n",
       "    </tr>\n",
       "  </thead>\n",
       "  <tbody>\n",
       "    <tr>\n",
       "      <th>0</th>\n",
       "      <td>18540</td>\n",
       "      <td>43</td>\n",
       "      <td>./data/test/18540.jpg</td>\n",
       "    </tr>\n",
       "    <tr>\n",
       "      <th>1</th>\n",
       "      <td>18541</td>\n",
       "      <td>40</td>\n",
       "      <td>./data/test/18541.jpg</td>\n",
       "    </tr>\n",
       "    <tr>\n",
       "      <th>2</th>\n",
       "      <td>18542</td>\n",
       "      <td>40</td>\n",
       "      <td>./data/test/18542.jpg</td>\n",
       "    </tr>\n",
       "    <tr>\n",
       "      <th>3</th>\n",
       "      <td>18543</td>\n",
       "      <td>72</td>\n",
       "      <td>./data/test/18543.jpg</td>\n",
       "    </tr>\n",
       "    <tr>\n",
       "      <th>4</th>\n",
       "      <td>18544</td>\n",
       "      <td>51</td>\n",
       "      <td>./data/test/18544.jpg</td>\n",
       "    </tr>\n",
       "  </tbody>\n",
       "</table>\n",
       "</div>"
      ],
      "text/plain": [
       "   image_id  category               filename\n",
       "0     18540        43  ./data/test/18540.jpg\n",
       "1     18541        40  ./data/test/18541.jpg\n",
       "2     18542        40  ./data/test/18542.jpg\n",
       "3     18543        72  ./data/test/18543.jpg\n",
       "4     18544        51  ./data/test/18544.jpg"
      ]
     },
     "execution_count": 48,
     "metadata": {},
     "output_type": "execute_result"
    }
   ],
   "source": [
    "pred_df = pd.read_csv(\"./data/prediction.csv\")\n",
    "pred_df['filename'] = './data/test/' + pred_df['image_id'].astype(str) + '.jpg'\n",
    "pred_df.head(5)"
   ]
  },
  {
   "cell_type": "code",
   "execution_count": 65,
   "metadata": {},
   "outputs": [
    {
     "data": {
      "application/vnd.jupyter.widget-view+json": {
       "model_id": "0ac0d7d0dbbf483b8bee2dbc7188c681",
       "version_major": 2,
       "version_minor": 0
      },
      "text/plain": [
       "interactive(children=(IntText(value=18540, description='Category:'), Output()), _dom_classes=('widget-interact…"
      ]
     },
     "metadata": {},
     "output_type": "display_data"
    },
    {
     "data": {
      "text/plain": [
       "<function __main__.interact_func(x)>"
      ]
     },
     "execution_count": 65,
     "metadata": {},
     "output_type": "execute_result"
    }
   ],
   "source": [
    "def interact_func(x):\n",
    "    \n",
    "    selected_pred_df = pred_df[pred_df['image_id'] == x]\n",
    "    \n",
    "    pred_category = selected_pred_df['category'].values[0]\n",
    "    print(pred_category)\n",
    "    category_df = df[df['category'] == pred_category]\n",
    "    image_widgets = []\n",
    "    for index, row in category_df.iterrows():\n",
    "        image = open(row['filename'], \"rb\").read()\n",
    "        image_widgets.append(ipywidgets.Image(value=image, format='png'))\n",
    "        if len(image_widgets) >= 40:\n",
    "            break\n",
    "    \n",
    "    \n",
    "    test_image = open(selected_pred_df['filename'].values[0], \"rb\").read()\n",
    "    \n",
    "    \n",
    "    header_box = ipywidgets.VBox([\n",
    "        ipywidgets.Label(value=\"Test Image\"),\n",
    "        ipywidgets.Image(value=test_image, format='png', height=\"100px\")\n",
    "    ],\n",
    "        layout=ipywidgets.Layout(display='flex', flex_flow='column', align_items='center', border='solid')\n",
    "    )\n",
    "    \n",
    "    category_images_box = ipywidgets.GridBox(image_widgets, \n",
    "                                             layout=ipywidgets.Layout(grid_template_columns=\"repeat(4, 25%)\", grid_gap=\"5px\"))\n",
    "    \n",
    "    return ipywidgets.VBox([\n",
    "        header_box,\n",
    "        category_images_box\n",
    "    ])\n",
    "\n",
    "ipywidgets.interact(interact_func, x=ipywidgets.IntText(value=18540, description='Category:'))"
   ]
  },
  {
   "cell_type": "code",
   "execution_count": 43,
   "metadata": {},
   "outputs": [
    {
     "data": {
      "application/vnd.jupyter.widget-view+json": {
       "model_id": "8147e1028ebf467cb9d34eede1e8bde9",
       "version_major": 2,
       "version_minor": 0
      },
      "text/plain": [
       "IntSlider(value=9, continuous_update=False, description='Test:', max=10)"
      ]
     },
     "metadata": {},
     "output_type": "display_data"
    }
   ],
   "source": [
    "ipywidgets.IntSlider(\n",
    "    value=7,\n",
    "    min=0,\n",
    "    max=10,\n",
    "    step=1,\n",
    "    description='Test:',\n",
    "    disabled=False,\n",
    "    continuous_update=False,\n",
    "    orientation='horizontal',\n",
    "    readout=True,\n",
    "    readout_format='d'\n",
    ")\n",
    "ipywidgets.IntSlider(\n",
    "    value=9,\n",
    "    min=0,\n",
    "    max=10,\n",
    "    step=1,\n",
    "    description='Test:',\n",
    "    disabled=False,\n",
    "    continuous_update=False,\n",
    "    orientation='horizontal',\n",
    "    readout=True,\n",
    "    readout_format='d'\n",
    ")"
   ]
  },
  {
   "cell_type": "code",
   "execution_count": null,
   "metadata": {},
   "outputs": [],
   "source": []
  }
 ],
 "metadata": {
  "kernelspec": {
   "display_name": "Python 3",
   "language": "python",
   "name": "python3"
  },
  "language_info": {
   "codemirror_mode": {
    "name": "ipython",
    "version": 3
   },
   "file_extension": ".py",
   "mimetype": "text/x-python",
   "name": "python",
   "nbconvert_exporter": "python",
   "pygments_lexer": "ipython3",
   "version": "3.6.3"
  }
 },
 "nbformat": 4,
 "nbformat_minor": 2
}
