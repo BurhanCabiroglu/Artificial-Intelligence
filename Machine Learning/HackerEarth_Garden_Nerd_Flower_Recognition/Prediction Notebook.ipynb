{
 "cells": [
  {
   "cell_type": "markdown",
   "metadata": {},
   "source": [
    "# ML Challenge Prediction Notebook"
   ]
  },
  {
   "cell_type": "code",
   "execution_count": 1,
   "metadata": {},
   "outputs": [
    {
     "name": "stdout",
     "output_type": "stream",
     "text": [
      "Widget Loaded\n"
     ]
    }
   ],
   "source": [
    "%matplotlib inline\n",
    "%run ./../../plugins/widgets.py\n",
    "\n",
    "import cv2\n",
    "import glob\n",
    "import ipywidgets\n",
    "import math\n",
    "import matplotlib.pyplot as plt\n",
    "import numpy as np\n",
    "import pandas as pd\n",
    "import seaborn as sns\n",
    "import sklearn\n",
    "import sklearn.model_selection\n",
    "import time\n",
    "import tensorflow as tf\n",
    "import tensorflow.keras as keras"
   ]
  },
  {
   "cell_type": "markdown",
   "metadata": {},
   "source": [
    "## Global parameters and variables"
   ]
  },
  {
   "cell_type": "code",
   "execution_count": 2,
   "metadata": {},
   "outputs": [],
   "source": [
    "tf.enable_eager_execution()\n",
    "plt.rcParams['figure.figsize'] = [16, 9]\n",
    "plt.rcParams['font.size'] = 14\n",
    "plt.rcParams['axes.grid'] = True\n",
    "plt.rcParams['figure.facecolor'] = 'white'\n",
    "pd.set_option('display.max_columns', 100)\n",
    "pd.set_option('display.width', 1000)"
   ]
  },
  {
   "cell_type": "code",
   "execution_count": 3,
   "metadata": {},
   "outputs": [],
   "source": [
    "IMG_SIZE = 224\n",
    "IMG_SHAPE = [IMG_SIZE, IMG_SIZE, 3]\n",
    "\n",
    "NUM_CLASSES = 102\n",
    "BATCH_SIZE = 32"
   ]
  },
  {
   "cell_type": "markdown",
   "metadata": {},
   "source": [
    "## Loading Filenames and Labels"
   ]
  },
  {
   "cell_type": "code",
   "execution_count": 4,
   "metadata": {},
   "outputs": [
    {
     "data": {
      "text/html": [
       "<div>\n",
       "<style scoped>\n",
       "    .dataframe tbody tr th:only-of-type {\n",
       "        vertical-align: middle;\n",
       "    }\n",
       "\n",
       "    .dataframe tbody tr th {\n",
       "        vertical-align: top;\n",
       "    }\n",
       "\n",
       "    .dataframe thead th {\n",
       "        text-align: right;\n",
       "    }\n",
       "</style>\n",
       "<table border=\"1\" class=\"dataframe\">\n",
       "  <thead>\n",
       "    <tr style=\"text-align: right;\">\n",
       "      <th></th>\n",
       "      <th>image_id</th>\n",
       "      <th>category</th>\n",
       "      <th>filename</th>\n",
       "    </tr>\n",
       "  </thead>\n",
       "  <tbody>\n",
       "    <tr>\n",
       "      <th>0</th>\n",
       "      <td>0</td>\n",
       "      <td>77</td>\n",
       "      <td>./data/train/0.jpg</td>\n",
       "    </tr>\n",
       "    <tr>\n",
       "      <th>1</th>\n",
       "      <td>1</td>\n",
       "      <td>81</td>\n",
       "      <td>./data/train/1.jpg</td>\n",
       "    </tr>\n",
       "    <tr>\n",
       "      <th>2</th>\n",
       "      <td>2</td>\n",
       "      <td>52</td>\n",
       "      <td>./data/train/2.jpg</td>\n",
       "    </tr>\n",
       "    <tr>\n",
       "      <th>3</th>\n",
       "      <td>3</td>\n",
       "      <td>72</td>\n",
       "      <td>./data/train/3.jpg</td>\n",
       "    </tr>\n",
       "    <tr>\n",
       "      <th>4</th>\n",
       "      <td>4</td>\n",
       "      <td>58</td>\n",
       "      <td>./data/train/4.jpg</td>\n",
       "    </tr>\n",
       "  </tbody>\n",
       "</table>\n",
       "</div>"
      ],
      "text/plain": [
       "   image_id  category            filename\n",
       "0         0        77  ./data/train/0.jpg\n",
       "1         1        81  ./data/train/1.jpg\n",
       "2         2        52  ./data/train/2.jpg\n",
       "3         3        72  ./data/train/3.jpg\n",
       "4         4        58  ./data/train/4.jpg"
      ]
     },
     "execution_count": 4,
     "metadata": {},
     "output_type": "execute_result"
    }
   ],
   "source": [
    "df = pd.read_csv(\"./data/train.csv\")\n",
    "df['filename'] = './data/train/'+ df['image_id'].astype(str) + '.jpg'\n",
    "df.head(5)"
   ]
  },
  {
   "cell_type": "code",
   "execution_count": 5,
   "metadata": {},
   "outputs": [
    {
     "name": "stdout",
     "output_type": "stream",
     "text": [
      "Sample filenames :  ['./data/train/0.jpg', './data/train/1.jpg', './data/train/2.jpg', './data/train/3.jpg']\n",
      "Sample labels :  [76, 80, 51, 71]\n"
     ]
    }
   ],
   "source": [
    "filenames = []\n",
    "labels = []\n",
    "for index, row in df.iterrows():\n",
    "    filenames.append(row['filename'])\n",
    "    labels.append(row['category']-1)\n",
    "    \n",
    "print(\"Sample filenames : \", filenames[:4])\n",
    "print(\"Sample labels : \", labels[:4])"
   ]
  },
  {
   "cell_type": "code",
   "execution_count": 6,
   "metadata": {},
   "outputs": [
    {
     "name": "stdout",
     "output_type": "stream",
     "text": [
      "14832 examples in training set\n",
      "3708 examples in validation set\n"
     ]
    }
   ],
   "source": [
    "train_x, val_x, train_y, val_y = sklearn.model_selection.train_test_split(filenames, labels, test_size=0.20, random_state=64)\n",
    "print(\"{} examples in training set\".format(len(train_y)))\n",
    "print(\"{} examples in validation set\".format(len(val_y)))"
   ]
  },
  {
   "cell_type": "markdown",
   "metadata": {},
   "source": [
    "## Defining a DataGenerator"
   ]
  },
  {
   "cell_type": "code",
   "execution_count": 7,
   "metadata": {},
   "outputs": [],
   "source": [
    "class DataGenerator(keras.utils.Sequence):\n",
    "    \n",
    "    # Generates data for Keras\n",
    "    def __init__(self, filenames, labels, batch_size=BATCH_SIZE, n_classes=NUM_CLASSES, shuffle=True):   \n",
    "        self.filenames = filenames\n",
    "        self.labels = labels\n",
    "        self.batch_size = batch_size\n",
    "        self.n_classes = n_classes\n",
    "        self.shuffle = shuffle\n",
    "        self.on_epoch_end()\n",
    "\n",
    "    # Generate one batch of data\n",
    "    def __getitem__(self, batch_index):\n",
    "        \n",
    "        # Generate indexes of the batch\n",
    "        batch_start = batch_index*self.batch_size\n",
    "        batch_end = (batch_index+1)*self.batch_size\n",
    "        \n",
    "        batch_indices = self.indexes[batch_start:batch_end]\n",
    "        \n",
    "        batch_filenames = [self.filenames[i] for i in batch_indices]\n",
    "        batch_labels = [self.labels[i] for i in batch_indices]\n",
    "\n",
    "        batch_x = []\n",
    "        batch_y = []\n",
    "        \n",
    "        # Generate data\n",
    "        for i in range(self.batch_size):\n",
    "            pil_image = keras.preprocessing.image.load_img(batch_filenames[i], target_size=(IMG_SIZE, IMG_SIZE))\n",
    "            image_array = keras.preprocessing.image.img_to_array(pil_image)\n",
    "            batch_x.append(image_array)\n",
    "            batch_y.append(batch_labels[i])\n",
    "        \n",
    "        batch_x = np.array(batch_x)\n",
    "        batch_y = keras.utils.to_categorical(batch_y, num_classes=self.n_classes)\n",
    "        \n",
    "        return batch_x, batch_y\n",
    "\n",
    "    # Updates indexes after each epoch\n",
    "    def on_epoch_end(self):\n",
    "        self.indexes = np.arange(len(self.filenames))\n",
    "        if self.shuffle == True:\n",
    "            np.random.shuffle(self.indexes)\n",
    "          \n",
    "    # Denotes the number of batches per epoch\n",
    "    def __len__(self):\n",
    "        return int(np.floor(len(self.filenames) / self.batch_size))"
   ]
  },
  {
   "cell_type": "code",
   "execution_count": 8,
   "metadata": {},
   "outputs": [],
   "source": [
    "training_generator = DataGenerator(train_x, train_y)\n",
    "validation_generator  = DataGenerator(val_x, val_y)"
   ]
  },
  {
   "cell_type": "markdown",
   "metadata": {},
   "source": [
    "## Load and Tweak Pre-trained Model"
   ]
  },
  {
   "cell_type": "code",
   "execution_count": 9,
   "metadata": {},
   "outputs": [],
   "source": [
    "# Loads the VGG19 Model without the last 2 FC layers when include_top=False\n",
    "base_model = keras.applications.VGG19(input_shape=IMG_SHAPE, include_top=False, weights='imagenet')"
   ]
  },
  {
   "cell_type": "code",
   "execution_count": 10,
   "metadata": {},
   "outputs": [],
   "source": [
    "x = base_model.output\n",
    "x = keras.layers.Flatten()(x)\n",
    "# x = keras.layers.Dense(1024, activation='relu')(x)\n",
    "predictions = keras.layers.Dense(NUM_CLASSES, activation='softmax')(x)\n",
    "model = keras.Model(inputs=base_model.input, outputs=predictions)"
   ]
  },
  {
   "cell_type": "code",
   "execution_count": 11,
   "metadata": {},
   "outputs": [],
   "source": [
    "for layer in base_model.layers:\n",
    "    layer.trainable = False\n",
    "    \n",
    "model.compile(loss='categorical_crossentropy', optimizer='adam', metrics=['accuracy'])"
   ]
  },
  {
   "cell_type": "code",
   "execution_count": null,
   "metadata": {},
   "outputs": [
    {
     "name": "stdout",
     "output_type": "stream",
     "text": [
      "Model: \"model\"\n",
      "_________________________________________________________________\n",
      "Layer (type)                 Output Shape              Param #   \n",
      "=================================================================\n",
      "input_1 (InputLayer)         [(None, 224, 224, 3)]     0         \n",
      "_________________________________________________________________\n",
      "block1_conv1 (Conv2D)        (None, 224, 224, 64)      1792      \n",
      "_________________________________________________________________\n",
      "block1_conv2 (Conv2D)        (None, 224, 224, 64)      36928     \n",
      "_________________________________________________________________\n",
      "block1_pool (MaxPooling2D)   (None, 112, 112, 64)      0         \n",
      "_________________________________________________________________\n",
      "block2_conv1 (Conv2D)        (None, 112, 112, 128)     73856     \n",
      "_________________________________________________________________\n",
      "block2_conv2 (Conv2D)        (None, 112, 112, 128)     147584    \n",
      "_________________________________________________________________\n",
      "block2_pool (MaxPooling2D)   (None, 56, 56, 128)       0         \n",
      "_________________________________________________________________\n",
      "block3_conv1 (Conv2D)        (None, 56, 56, 256)       295168    \n",
      "_________________________________________________________________\n",
      "block3_conv2 (Conv2D)        (None, 56, 56, 256)       590080    \n",
      "_________________________________________________________________\n",
      "block3_conv3 (Conv2D)        (None, 56, 56, 256)       590080    \n",
      "_________________________________________________________________\n",
      "block3_conv4 (Conv2D)        (None, 56, 56, 256)       590080    \n",
      "_________________________________________________________________\n",
      "block3_pool (MaxPooling2D)   (None, 28, 28, 256)       0         \n",
      "_________________________________________________________________\n",
      "block4_conv1 (Conv2D)        (None, 28, 28, 512)       1180160   \n",
      "_________________________________________________________________\n",
      "block4_conv2 (Conv2D)        (None, 28, 28, 512)       2359808   \n",
      "_________________________________________________________________\n",
      "block4_conv3 (Conv2D)        (None, 28, 28, 512)       2359808   \n",
      "_________________________________________________________________\n",
      "block4_conv4 (Conv2D)        (None, 28, 28, 512)       2359808   \n",
      "_________________________________________________________________\n",
      "block4_pool (MaxPooling2D)   (None, 14, 14, 512)       0         \n",
      "_________________________________________________________________\n",
      "block5_conv1 (Conv2D)        (None, 14, 14, 512)       2359808   \n",
      "_________________________________________________________________\n",
      "block5_conv2 (Conv2D)        (None, 14, 14, 512)       2359808   \n",
      "_________________________________________________________________\n",
      "block5_conv3 (Conv2D)        (None, 14, 14, 512)       2359808   \n",
      "_________________________________________________________________\n",
      "block5_conv4 (Conv2D)        (None, 14, 14, 512)       2359808   \n",
      "_________________________________________________________________\n",
      "block5_pool (MaxPooling2D)   (None, 7, 7, 512)         0         \n",
      "_________________________________________________________________\n",
      "flatten (Flatten)            (None, 25088)             0         \n",
      "_________________________________________________________________\n",
      "dense (Dense)                (None, 102)               2559078   \n",
      "=================================================================\n",
      "Total params: 22,583,462\n",
      "Trainable params: 2,559,078\n",
      "Non-trainable params: 20,024,384\n",
      "_________________________________________________________________\n"
     ]
    }
   ],
   "source": [
    "model.summary()"
   ]
  },
  {
   "cell_type": "markdown",
   "metadata": {},
   "source": [
    "## Train Model"
   ]
  },
  {
   "cell_type": "code",
   "execution_count": null,
   "metadata": {},
   "outputs": [
    {
     "name": "stderr",
     "output_type": "stream",
     "text": [
      "WARNING: Logging before flag parsing goes to stderr.\n",
      "W0811 22:56:38.087845  3544 deprecation.py:323] From C:\\Program Files\\Python 3.6.3\\lib\\site-packages\\tensorflow\\python\\ops\\math_grad.py:1250: add_dispatch_support.<locals>.wrapper (from tensorflow.python.ops.array_ops) is deprecated and will be removed in a future version.\n",
      "Instructions for updating:\n",
      "Use tf.where in 2.0, which has the same broadcast rule as np.where\n"
     ]
    },
    {
     "name": "stdout",
     "output_type": "stream",
     "text": [
      "Wall time: 0 ns\n",
      "Epoch 1/10\n",
      "463/463 [==============================] - 167s 361ms/step - loss: 15.3411 - acc: 0.0471 - val_loss: 15.3441 - val_acc: 0.0470\n",
      "Epoch 2/10\n",
      "463/463 [==============================] - 163s 352ms/step - loss: 15.2626 - acc: 0.0528 - val_loss: 15.2605 - val_acc: 0.0527\n",
      "Epoch 3/10\n",
      "463/463 [==============================] - 161s 348ms/step - loss: 15.2044 - acc: 0.0559 - val_loss: 15.1109 - val_acc: 0.0625\n",
      "Epoch 4/10\n",
      "463/463 [==============================] - 164s 353ms/step - loss: 15.0508 - acc: 0.0657 - val_loss: 15.0863 - val_acc: 0.0633\n",
      "Epoch 5/10\n",
      "112/463 [======>.......................] - ETA: 1:36 - loss: 15.0312 - acc: 0.0672"
     ]
    }
   ],
   "source": [
    "%time\n",
    "model.fit_generator(generator=training_generator, \n",
    "                    validation_data=validation_generator,\n",
    "                    epochs=10)"
   ]
  },
  {
   "cell_type": "markdown",
   "metadata": {},
   "source": [
    "## Make Predictions on Test Dataset"
   ]
  },
  {
   "cell_type": "code",
   "execution_count": null,
   "metadata": {},
   "outputs": [],
   "source": [
    "# Make Predictions on test data\n",
    "df = pd.read_csv(\"./data/test.csv\")\n",
    "df['filename'] = './data/test/' + df['image_id'].astype(str) + '.jpg'\n",
    "df.head(5)"
   ]
  },
  {
   "cell_type": "code",
   "execution_count": null,
   "metadata": {},
   "outputs": [],
   "source": [
    "pred_y = []\n",
    "batch_x = []\n",
    "for index, row in df.iterrows():\n",
    "    pil_image = keras.preprocessing.image.load_img(row['filename'], target_size=(IMG_SIZE, IMG_SIZE))\n",
    "    image_array = keras.preprocessing.image.img_to_array(pil_image)\n",
    "    batch_x.append(image_array)\n",
    "\n",
    "    if len(batch_x) >= BATCH_SIZE or index == len(df) - 1:\n",
    "        batch_y = model.predict_on_batch(np.array(batch_x))\n",
    "        batch_y = np.argmax(batch_y, axis=1) + 1\n",
    "        pred_y.extend(batch_y)\n",
    "        batch_x = []\n",
    "\n",
    "df['category'] = pred_y\n",
    "df.head(5)"
   ]
  },
  {
   "cell_type": "code",
   "execution_count": null,
   "metadata": {},
   "outputs": [],
   "source": [
    "df[['image_id', 'category']].to_csv(\"./data/prediction.csv\", index=False)"
   ]
  }
 ],
 "metadata": {
  "kernelspec": {
   "display_name": "Python 3",
   "language": "python",
   "name": "python3"
  },
  "language_info": {
   "codemirror_mode": {
    "name": "ipython",
    "version": 3
   },
   "file_extension": ".py",
   "mimetype": "text/x-python",
   "name": "python",
   "nbconvert_exporter": "python",
   "pygments_lexer": "ipython3",
   "version": "3.6.3"
  }
 },
 "nbformat": 4,
 "nbformat_minor": 2
}
